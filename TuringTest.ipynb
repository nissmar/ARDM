{
 "cells": [
  {
   "cell_type": "code",
   "execution_count": 5,
   "metadata": {},
   "outputs": [],
   "source": [
    "import matplotlib.pyplot as plt\n",
    "import random as rd\n",
    "import numpy as np\n",
    "from time import time\n",
    "import os"
   ]
  },
  {
   "cell_type": "code",
   "execution_count": 41,
   "metadata": {},
   "outputs": [],
   "source": [
    "outs_real = list(np.load('data/binary_mnist.npy').reshape((60000, 28, 28)))\n",
    "outs_paper = [plt.imread('data/mnist_gen/'+e)[:,:,0] for e in os.listdir('data/mnist_gen') if '.png' in e]\n",
    "rd.shuffle(outs_real)\n",
    "rd.shuffle(outs_paper)"
   ]
  },
  {
   "cell_type": "code",
   "execution_count": 43,
   "metadata": {},
   "outputs": [
    {
     "name": "stdout",
     "output_type": "stream",
     "text": [
      "0.0\n",
      "0.0\n",
      "0.0\n",
      "0.0\n",
      "0.2\n",
      "0.16666666666666666\n",
      "0.14285714285714285\n",
      "0.125\n",
      "0.1111111111111111\n",
      "0.1\n",
      "0.09090909090909091\n",
      "0.08333333333333333\n",
      "0.15384615384615385\n",
      "0.21428571428571427\n",
      "0.26666666666666666\n",
      "0.3125\n",
      "0.35294117647058826\n",
      "0.3888888888888889\n",
      "0.42105263157894735\n",
      "0.4\n",
      "0.38095238095238093\n",
      "0.4090909090909091\n",
      "0.43478260869565216\n",
      "0.4166666666666667\n",
      "0.44\n",
      "0.46153846153846156\n",
      "0.4444444444444444\n",
      "0.42857142857142855\n",
      "0.41379310344827586\n",
      "0.4\n",
      "0.41935483870967744\n",
      "0.40625\n",
      "0.3939393939393939\n",
      "0.38235294117647056\n",
      "0.4\n",
      "0.4166666666666667\n",
      "0.40540540540540543\n"
     ]
    }
   ],
   "source": [
    "%matplotlib qt\n",
    "fs = 2.56*2\n",
    "fig = plt.figure(figsize=(fs,fs))\n",
    "ax = fig.add_subplot(111)\n",
    "\n",
    "def MTT(out1, out2):\n",
    "    def update_image():\n",
    "        global CURRENT_im,INDEX,SWITCH,PREFERENCES, CANVAS, READY\n",
    "        READY = False\n",
    "        ax.clear()\n",
    "        ax.set_title(str(INDEX))\n",
    "        SWITCH = rd.random()<0.5 \n",
    "        \n",
    "        if SWITCH:\n",
    "            CURRENT_im = np.concatenate([out2[INDEX], out1[INDEX]], axis=1)\n",
    "        else:\n",
    "            CURRENT_im = np.concatenate([out1[INDEX], out2[INDEX]], axis=1)\n",
    "\n",
    "        im1 = CURRENT_im.copy()\n",
    "        im2 = CURRENT_im.copy()\n",
    "        im1[:,im1.shape[1]//2:]=0\n",
    "        im2[:,:im2.shape[1]//2]=0\n",
    "\n",
    "        im = np.zeros_like(CURRENT_im)\n",
    "        im[:,im.shape[1]//2]=1\n",
    "        ax.imshow(im1, cmap='gray')\n",
    "        fig.canvas.draw()\n",
    "        plt.pause(1)\n",
    "\n",
    "        ax.imshow(im2, cmap='gray')\n",
    "        fig.canvas.draw()\n",
    "        plt.pause(1)\n",
    "        \n",
    "        ax.imshow(im)\n",
    "        fig.canvas.draw()\n",
    "        READY = True\n",
    "\n",
    "\n",
    "    def onclick(event):\n",
    "        global CURRENT_im,INDEX,SWITCH,PREFERENCES, CANVAS, READY\n",
    "        try:\n",
    "            if READY:\n",
    "                ix = event.xdata\n",
    "                PREFERENCES.append((ix>=CURRENT_im.shape[1]/2)==SWITCH)\n",
    "                INDEX += 1\n",
    "                print(sum(PREFERENCES)*1/len(PREFERENCES))\n",
    "                \n",
    "                if INDEX<len(out1):\n",
    "                    update_image()\n",
    "                else:\n",
    "                    plt.close()\n",
    "                    print(PREFERENCES)\n",
    "        except:\n",
    "            print('oops')\n",
    "\n",
    "\n",
    "    global CURRENT_im,INDEX,SWITCH,PREFERENCES, CANVAS,READY\n",
    "    READY=True\n",
    "    CURRENT_im = None\n",
    "    INDEX = 0\n",
    "    SWITCH = False\n",
    "    PREFERENCES = []\n",
    "    update_image()\n",
    "\n",
    "    _ = fig.canvas.mpl_connect('button_press_event', onclick)\n",
    "    plt.show()\n",
    "\n",
    "\n",
    "start = 0\n",
    "MTT(outs_paper[start:], outs_real[start:])"
   ]
  },
  {
   "cell_type": "code",
   "execution_count": 44,
   "metadata": {},
   "outputs": [
    {
     "name": "stdout",
     "output_type": "stream",
     "text": [
      "0.40540540540540543 towards first list\n"
     ]
    }
   ],
   "source": [
    "print(sum(PREFERENCES)*1/len(PREFERENCES), \"towards first list\") "
   ]
  },
  {
   "cell_type": "code",
   "execution_count": 45,
   "metadata": {},
   "outputs": [
    {
     "data": {
      "image/png": "[encoded data removed]",
      "text/plain": [
       "<Figure size 432x288 with 1 Axes>"
      ]
     },
     "metadata": {
      "needs_background": "light"
     },
     "output_type": "display_data"
    }
   ],
   "source": [
    "%matplotlib inline\n",
    "\n",
    "def sliding_mean(arr, p=4):\n",
    "    L =[sum(arr[:p])/p]\n",
    "    \n",
    "    for i in range(len(arr)-p):\n",
    "        L.append( (L[-1]*p+arr[p+i]-arr[i])/p)\n",
    "    return L\n",
    "    \n",
    "sc = [sum(PREFERENCES[1:i])*1/len(PREFERENCES[1:i]) for i in range(2,len(PREFERENCES))]\n",
    "plt.plot(sc, label='participant n°3')\n",
    "plt.xlabel('Number of images seen')\n",
    "plt.ylabel('Fraction of correctly identified images')\n",
    "plt.legend()\n",
    "plt.show()\n",
    "# plt.plot(sliding_mean(sc,3))\n",
    "#plt.savefig('export/pfool.png')"
   ]
  },
  {
   "cell_type": "code",
   "execution_count": null,
   "metadata": {},
   "outputs": [],
   "source": []
  }
 ],
 "metadata": {
  "interpreter": {
   "hash": "a4f2bd6e9be05c5a1f17b9a3372a62e1dd3c7b06f2614de41bfc93cb39f1858b"
  },
  "kernelspec": {
   "display_name": "Python 3.9.7 64-bit ('objrec': conda)",
   "language": "python",
   "name": "python3"
  },
  "language_info": {
   "codemirror_mode": {
    "name": "ipython",
    "version": 3
   },
   "file_extension": ".py",
   "mimetype": "text/x-python",
   "name": "python",
   "nbconvert_exporter": "python",
   "pygments_lexer": "ipython3",
   "version": "3.9.7"
  },
  "orig_nbformat": 4
 },
 "nbformat": 4,
 "nbformat_minor": 2
}
