{
 "cells": [
  {
   "cell_type": "code",
   "execution_count": 25,
   "id": "f8ab99e6",
   "metadata": {},
   "outputs": [],
   "source": [
    "import torch\n",
    "import torch.nn as nn\n",
    "from torch.nn.functional import one_hot\n",
    "from torch.distributions import Categorical, OneHotCategorical\n",
    "from matplotlib import pyplot as plt\n",
    "from unet import UNet\n",
    "from tqdm import tqdm\n",
    "import numpy as np\n",
    "from difflib import SequenceMatcher\n",
    "device='cuda' if torch.cuda.is_available() else 'cpu'\n",
    "from unet import UNet\n",
    "\n",
    "from torch.utils.data import TensorDataset, DataLoader\n",
    "from PIL import Image"
   ]
  },
  {
   "cell_type": "code",
   "execution_count": 26,
   "id": "f0de39f3",
   "metadata": {},
   "outputs": [],
   "source": [
    "mnist_data = torch.tensor(np.load('data/binary_mnist.npy'))\n",
    "length = mnist_data.shape[0]\n",
    "mnist_data = mnist_data.view(length*784)\n",
    "\n",
    "# torch data\n",
    "out = torch.zeros(length*784,2, dtype=torch.float32)\n",
    "out[mnist_data==0, 0]=1\n",
    "out[mnist_data==1, 1]=1\n",
    "mnist_data = out.view(length, 28, 28, 2).permute((0,3,1,2))\n",
    "\n",
    "\n",
    "dataset = TensorDataset(mnist_data) \n",
    "dataloader = DataLoader(dataset, batch_size=500, shuffle=True) # create your dataloader"
   ]
  },
  {
   "cell_type": "code",
   "execution_count": 3,
   "id": "b1d6219e",
   "metadata": {},
   "outputs": [],
   "source": [
    "def closest(out):\n",
    "    return mnist_data[(((mnist_data-out.to('cpu'))**2).sum((1,2,3))).argmin()]\n",
    "\n",
    "def cust_show(out,**kwargs):\n",
    "    plt.imshow(out.cpu().detach().numpy(), **kwargs)\n",
    "    plt.show()\n",
    "\n"
   ]
  },
  {
   "cell_type": "code",
   "execution_count": 4,
   "id": "4549f9a2",
   "metadata": {},
   "outputs": [],
   "source": [
    "\n",
    "class AODM(nn.Module):\n",
    "    def __init__(self, h=28, w=28, k=2, lr=1e-4):\n",
    "        super().__init__()\n",
    "        self.h, self.w, self.k = h, w, k\n",
    "        self.d = self.h * self.w\n",
    "        self.unet = UNet(2,2)\n",
    "        self.lr = lr\n",
    "\n",
    "    def forward(self, x):\n",
    "        x_ = self.unet(x)\n",
    "        return torch.log_softmax(x_, dim=1)\n",
    "\n",
    "    def sample_t(self, N):\n",
    "        return torch.randint(1, self.d + 1, (N, 1, 1), device=device)\n",
    "\n",
    "    def sample_sigma(self, N):\n",
    "        return torch.stack([torch.randperm(self.d, device=device).reshape(self.h, self.w) + 1 for _ in range(N)])\n",
    "\n",
    "    def sigma_with_mask(self, mask):\n",
    "        # sigma = [1.. mask_pixels || randperm (remaining pixels) ]\n",
    "        sigma = torch.zeros((1, self.h, self.w), dtype=torch.long, device=device)\n",
    "        sigma[mask] = torch.arange(mask.sum()) + 1\n",
    "        sigma[~mask] = torch.randperm(self.d - mask.sum(), device=device) + mask.sum()\n",
    "        return sigma\n",
    "\n",
    "    def training_step(self, x):\n",
    "        N, K, H, W = x.shape\n",
    "        t = self.sample_t(N)\n",
    "        sigma = self.sample_sigma(N)\n",
    "        mask = sigma < t\n",
    "        mask = mask.unsqueeze(1).float()\n",
    "        x_ = self(x * mask)\n",
    "        C = Categorical(logits=x_.permute(0, 2, 3, 1))\n",
    "        l = (1. - mask) * C.log_prob(torch.argmax(x, dim=1)).unsqueeze(1)\n",
    "        n = 1. / (self.d - t + 1.)\n",
    "        l = n * l.sum(dim=(1, 2, 3))\n",
    "        return {'loss': -l.mean(), 'input': x.detach(), 'generated': x_.detach()}\n",
    "\n",
    "    def training_step_end(self, o):\n",
    "        self.log('loss', o['loss'])\n",
    "\n",
    "    def validation_step(self, *args, **kwargs):\n",
    "        sample = self.sample_one()\n",
    "        self.sample_quality(sample)\n",
    "        return {'sample': sample.cpu()}\n",
    "\n",
    "    def validation_epoch_end(self, outputs):\n",
    "        self.log('sample_quality', self.sample_quality.compute())\n",
    "\n",
    "    def configure_optimizers(self):\n",
    "        opt = torch.optim.Adam(self.parameters(), lr=self.lr)\n",
    "        return [opt]\n",
    "\n",
    "    def sample_one(self):\n",
    "        x = torch.zeros(1, self.k, self.h, self.w, device=device)\n",
    "        sigma = self.sample_sigma(1)\n",
    "        for t in range(1, self.d + 1):\n",
    "            x = self.sample_step(x, t, sigma)\n",
    "        return x\n",
    "\n",
    "    def sample_one_seeded(self, x_seed, mask):\n",
    "\n",
    "        # add masked pixels to seed\n",
    "        x = torch.zeros(1, self.k, self.h, self.w, device=device)\n",
    "        x[mask] = x_seed[mask]\n",
    "        sigma = self.sigma_with_mask(mask)\n",
    "\n",
    "        for t in range(mask.sum(), self.d + 1):\n",
    "            x = self.sample_step(x, t, sigma)\n",
    "        return x\n",
    "\n",
    "    def sample_step(self, x, t, sigma):\n",
    "        \"\"\"\n",
    "        Performs one step of the noise reversal transition function in order sigma at time t\n",
    "        x: the current state\n",
    "        t: the current timestep\n",
    "        sigma: the order\n",
    "        \"\"\"\n",
    "        past, current = sigma < t, sigma == t\n",
    "        past, current = past.unsqueeze(1).float(), current.unsqueeze(1).float()\n",
    "        logprobs = self((x * past))\n",
    "        x_ = OneHotCategorical(logits=logprobs.permute(0, 2, 3, 1)).sample().permute(0, 3, 1, 2)\n",
    "        x = x * (1 - current) + x_ * current\n",
    "        return x"
   ]
  },
  {
   "cell_type": "code",
   "execution_count": 5,
   "id": "22e63f04",
   "metadata": {},
   "outputs": [],
   "source": [
    "model = AODM().to(device)\n",
    "#model.eval()\n",
    "#out = model.sample_one()\n",
    "model = torch.load('mnist_trained.pt')\n",
    "opt = model.configure_optimizers()[0]\n",
    "L=[]"
   ]
  },
  {
   "cell_type": "code",
   "execution_count": 6,
   "id": "eb21c887",
   "metadata": {},
   "outputs": [],
   "source": [
    "model.lr = 1e-5\n",
    "opt = model.configure_optimizers()[0]"
   ]
  },
  {
   "cell_type": "code",
   "execution_count": 7,
   "id": "600bb55f",
   "metadata": {},
   "outputs": [
    {
     "name": "stderr",
     "output_type": "stream",
     "text": [
      " 28%|███████████▊                               | 11/40 [06:34<17:20, 35.87s/it]\n"
     ]
    },
    {
     "ename": "KeyboardInterrupt",
     "evalue": "",
     "output_type": "error",
     "traceback": [
      "\u001b[0;31m---------------------------------------------------------------------------\u001b[0m",
      "\u001b[0;31mKeyboardInterrupt\u001b[0m                         Traceback (most recent call last)",
      "\u001b[0;32m/tmp/ipykernel_15134/738470727.py\u001b[0m in \u001b[0;36m<module>\u001b[0;34m\u001b[0m\n\u001b[1;32m      8\u001b[0m     \u001b[0ml\u001b[0m\u001b[0;34m=\u001b[0m\u001b[0;36m0\u001b[0m\u001b[0;34m\u001b[0m\u001b[0;34m\u001b[0m\u001b[0m\n\u001b[1;32m      9\u001b[0m     \u001b[0;32mfor\u001b[0m \u001b[0midx\u001b[0m\u001b[0;34m,\u001b[0m \u001b[0mbatch\u001b[0m \u001b[0;32min\u001b[0m \u001b[0menumerate\u001b[0m\u001b[0;34m(\u001b[0m\u001b[0mdataloader\u001b[0m\u001b[0;34m)\u001b[0m\u001b[0;34m:\u001b[0m\u001b[0;34m\u001b[0m\u001b[0;34m\u001b[0m\u001b[0m\n\u001b[0;32m---> 10\u001b[0;31m         \u001b[0mx\u001b[0m \u001b[0;34m=\u001b[0m \u001b[0mbatch\u001b[0m\u001b[0;34m[\u001b[0m\u001b[0;36m0\u001b[0m\u001b[0;34m]\u001b[0m\u001b[0;34m.\u001b[0m\u001b[0mto\u001b[0m\u001b[0;34m(\u001b[0m\u001b[0mdevice\u001b[0m\u001b[0;34m)\u001b[0m\u001b[0;34m\u001b[0m\u001b[0;34m\u001b[0m\u001b[0m\n\u001b[0m\u001b[1;32m     11\u001b[0m         \u001b[0mopt\u001b[0m\u001b[0;34m.\u001b[0m\u001b[0mzero_grad\u001b[0m\u001b[0;34m(\u001b[0m\u001b[0;34m)\u001b[0m\u001b[0;34m\u001b[0m\u001b[0;34m\u001b[0m\u001b[0m\n\u001b[1;32m     12\u001b[0m         \u001b[0mout\u001b[0m \u001b[0;34m=\u001b[0m \u001b[0mmodel\u001b[0m\u001b[0;34m.\u001b[0m\u001b[0mtraining_step\u001b[0m\u001b[0;34m(\u001b[0m\u001b[0mx\u001b[0m\u001b[0;34m)\u001b[0m\u001b[0;34m\u001b[0m\u001b[0;34m\u001b[0m\u001b[0m\n",
      "\u001b[0;31mKeyboardInterrupt\u001b[0m: "
     ]
    }
   ],
   "source": [
    "for i in tqdm(range(40)):\n",
    "   # model.eval()\n",
    "    #out = model.sample_one()\n",
    "    #plt.imsave('figs/epoch_{}.png'.format(i), out[0,1].cpu().detach().numpy())\n",
    "\n",
    "\n",
    "    model.train()\n",
    "    l=0\n",
    "    for idx, batch in enumerate(dataloader):\n",
    "        x = batch[0].to(device)\n",
    "        opt.zero_grad()\n",
    "        out = model.training_step(x)\n",
    "        loss = out['loss']\n",
    "        l+=loss.item()\n",
    "        loss.backward()\n",
    "        opt.step()\n",
    "    L.append(l)\n",
    "   "
   ]
  },
  {
   "cell_type": "code",
   "execution_count": 8,
   "id": "3b12bc29",
   "metadata": {},
   "outputs": [
    {
     "data": {
      "text/plain": [
       "[<matplotlib.lines.Line2D at 0x7f9bbc165730>]"
      ]
     },
     "execution_count": 8,
     "metadata": {},
     "output_type": "execute_result"
    },
    {
     "data": {
      "image/png": "[encoded data removed]",
      "text/plain": [
       "<Figure size 432x288 with 1 Axes>"
      ]
     },
     "metadata": {
      "needs_background": "light"
     },
     "output_type": "display_data"
    }
   ],
   "source": [
    "plt.plot(L)"
   ]
  },
  {
   "cell_type": "code",
   "execution_count": 17,
   "id": "9b9bdc0f",
   "metadata": {},
   "outputs": [
    {
     "name": "stdout",
     "output_type": "stream",
     "text": [
      "updating: figs/ (stored 0%)\r\n",
      "updating: figs/overfit/ (stored 0%)\r\n",
      "updating: figs/overfit/.ipynb_checkpoints/ (stored 0%)\r\n",
      "updating: figs/overfit/2_gen.png (stored 0%)\r\n",
      "updating: figs/overfit/2_ref.png (stored 0%)\r\n",
      "updating: figs/overfit/1_gen.png (stored 0%)\r\n",
      "updating: figs/overfit/1_ref.png (stored 0%)\r\n",
      "updating: figs/overfit/3_gen.png (stored 0%)\r\n",
      "updating: figs/overfit/3_ref.png (stored 0%)\r\n",
      "updating: figs/overfit/4_gen.png (stored 0%)\r\n",
      "updating: figs/overfit/4_ref.png (stored 0%)\r\n",
      "updating: figs/overfit/5_gen.png (stored 0%)\r\n",
      "updating: figs/overfit/5_ref.png (stored 0%)\r\n",
      "updating: figs/overfit/6_gen.png (stored 0%)\r\n",
      "updating: figs/overfit/6_ref.png (stored 0%)\r\n",
      "updating: figs/overfit/7_gen.png (stored 0%)\r\n",
      "updating: figs/overfit/7_ref.png (stored 0%)\r\n",
      "updating: figs/overfit/8_gen.png (stored 0%)\r\n",
      "updating: figs/overfit/8_ref.png (stored 0%)\r\n",
      "updating: figs/overfit/9_gen.png (stored 0%)\r\n",
      "updating: figs/overfit/9_ref.png (stored 0%)\r\n",
      "updating: figs/overfit/10_gen.png (stored 0%)\r\n",
      "updating: figs/overfit/10_ref.png (stored 0%)\r\n",
      "updating: figs/.ipynb_checkpoints/ (stored 0%)\r\n",
      "updating: figs/training/ (stored 0%)\r\n",
      "updating: figs/training/epoch_0.png (deflated 39%)\r\n",
      "updating: figs/training/epoch_1.png (deflated 50%)\r\n",
      "updating: figs/training/epoch_6.png (deflated 56%)\r\n",
      "updating: figs/training/epoch_2.png (deflated 54%)\r\n",
      "updating: figs/training/epoch_3.png (deflated 55%)\r\n",
      "updating: figs/training/epoch_5.png (deflated 59%)\r\n",
      "updating: figs/training/epoch_4.png (deflated 52%)\r\n",
      "updating: figs/training/epoch_7.png (deflated 60%)\r\n",
      "updating: figs/training/epoch_8.png (deflated 56%)\r\n",
      "updating: figs/training/epoch_9.png (deflated 54%)\r\n",
      "updating: figs/training/epoch_10.png (deflated 59%)\r\n",
      "updating: figs/training/epoch_11.png (deflated 57%)\r\n",
      "updating: figs/training/epoch_12.png (deflated 58%)\r\n",
      "updating: figs/training/epoch_13.png (deflated 61%)\r\n",
      "updating: figs/training/epoch_14.png (deflated 60%)\r\n",
      "updating: figs/training/epoch_15.png (deflated 59%)\r\n",
      "updating: figs/training/epoch_16.png (deflated 61%)\r\n",
      "updating: figs/training/epoch_17.png (deflated 60%)\r\n",
      "updating: figs/training/epoch_18.png (deflated 62%)\r\n",
      "updating: figs/training/epoch_19.png (deflated 58%)\r\n",
      "updating: figs/training/epoch_20.png (deflated 62%)\r\n",
      "updating: figs/training/epoch_21.png (deflated 58%)\r\n",
      "updating: figs/training/epoch_22.png (deflated 63%)\r\n",
      "updating: figs/training/epoch_23.png (deflated 58%)\r\n",
      "updating: figs/training/epoch_24.png (deflated 59%)\r\n",
      "updating: figs/training/epoch_25.png (deflated 67%)\r\n",
      "updating: figs/training/epoch_26.png (deflated 56%)\r\n",
      "updating: figs/training/epoch_27.png (deflated 56%)\r\n",
      "updating: figs/training/epoch_28.png (deflated 67%)\r\n",
      "updating: figs/training/epoch_29.png (deflated 59%)\r\n"
     ]
    }
   ],
   "source": [
    "!zip -r figs.zip  figs"
   ]
  },
  {
   "cell_type": "code",
   "execution_count": 22,
   "id": "6d8f1914",
   "metadata": {},
   "outputs": [],
   "source": [
    "ind=0\n",
    "\n",
    "for i in range(1):\n",
    "    model.eval()\n",
    "    out = model.sample_one()\n",
    "    gen_im = out[0,1].cpu().detach().numpy()\n",
    "    ref_im = closest(out)[1].cpu().detach().numpy()\n",
    "\n",
    "    ind+=1\n",
    "    \n",
    "    gen_im = Image.fromarray(gen_im>0.5)\n",
    "    gen_im = gen_im.resize((280,280), Image.NEAREST)\n",
    "   \n",
    "    ref_im = Image.fromarray(ref_im>0.5)\n",
    "    ref_im = ref_im.resize((280,280), Image.NEAREST)\n",
    "    #gen_im.save('figs/overfit/{}_gen.png'.format(ind))\n",
    "    #ref_im.save('figs/overfit/{}_ref.png'.format(ind))\n",
    "\n",
    "#gen_im"
   ]
  },
  {
   "cell_type": "code",
   "execution_count": 23,
   "id": "814a6c94",
   "metadata": {},
   "outputs": [
    {
     "data": {
      "image/png": "[encoded data removed]",
      "text/plain": [
       "<Figure size 432x288 with 1 Axes>"
      ]
     },
     "metadata": {
      "needs_background": "light"
     },
     "output_type": "display_data"
    },
    {
     "data": {
      "image/png": "[encoded data removed]",
      "text/plain": [
       "<Figure size 432x288 with 1 Axes>"
      ]
     },
     "metadata": {
      "needs_background": "light"
     },
     "output_type": "display_data"
    }
   ],
   "source": [
    "plt.imshow(gen_im, cmap='gray')\n",
    "plt.show()\n",
    "plt.imshow(ref_im, cmap='gray')\n",
    "plt.show()\n"
   ]
  },
  {
   "cell_type": "code",
   "execution_count": 141,
   "id": "ea426f5c",
   "metadata": {},
   "outputs": [],
   "source": []
  },
  {
   "cell_type": "code",
   "execution_count": 88,
   "id": "40d878e1",
   "metadata": {},
   "outputs": [],
   "source": [
    "for i in range(30):\n",
    "    im = Image.open('figs/epoch_{}.png'.format(i))\n",
    "    im = im.resize((280,280), Image.NEAREST)\n",
    "    plt.imsave('figs2/epoch_{}.png'.format(i), np.array(im)[:,:,0]>100, cmap='gray')"
   ]
  },
  {
   "cell_type": "code",
   "execution_count": 87,
   "id": "cdb7b759",
   "metadata": {},
   "outputs": [
    {
     "data": {
      "text/plain": [
       "253"
      ]
     },
     "execution_count": 87,
     "metadata": {},
     "output_type": "execute_result"
    }
   ],
   "source": [
    "np.array(im)[:,:,0].max()"
   ]
  },
  {
   "cell_type": "code",
   "execution_count": 132,
   "id": "e251992a",
   "metadata": {},
   "outputs": [],
   "source": [
    "Image.open('figs/overfit/1_gen.png')\n",
    "im = im.resize((280,280), Image.NEAREST)"
   ]
  },
  {
   "cell_type": "code",
   "execution_count": 131,
   "id": "19e567b9",
   "metadata": {},
   "outputs": [
    {
     "data": {
      "text/plain": [
       "(280, 280)"
      ]
     },
     "execution_count": 131,
     "metadata": {},
     "output_type": "execute_result"
    }
   ],
   "source": [
    "im.size"
   ]
  },
  {
   "cell_type": "code",
   "execution_count": 145,
   "id": "a9ae05bb",
   "metadata": {},
   "outputs": [],
   "source": [
    "im = Image.fromarray(gen_im>0.5)\n",
    "im = im.resize((280,280), Image.NEAREST)"
   ]
  },
  {
   "cell_type": "code",
   "execution_count": 146,
   "id": "b29a6a67",
   "metadata": {},
   "outputs": [
    {
     "data": {
      "image/png": "[encoded data removed]",
      "text/plain": [
       "<PIL.Image.Image image mode=1 size=280x280 at 0x7F5EF34FA790>"
      ]
     },
     "execution_count": 146,
     "metadata": {},
     "output_type": "execute_result"
    }
   ],
   "source": [
    "im"
   ]
  },
  {
   "cell_type": "code",
   "execution_count": 147,
   "id": "76bfecb5",
   "metadata": {},
   "outputs": [],
   "source": [
    "im.save('o.png')"
   ]
  },
  {
   "cell_type": "code",
   "execution_count": null,
   "id": "1ccd2416",
   "metadata": {},
   "outputs": [],
   "source": []
  }
 ],
 "metadata": {
  "kernelspec": {
   "display_name": "Python 3 (ipykernel)",
   "language": "python",
   "name": "python3"
  },
  "language_info": {
   "codemirror_mode": {
    "name": "ipython",
    "version": 3
   },
   "file_extension": ".py",
   "mimetype": "text/x-python",
   "name": "python",
   "nbconvert_exporter": "python",
   "pygments_lexer": "ipython3",
   "version": "3.8.12"
  }
 },
 "nbformat": 4,
 "nbformat_minor": 5
}
