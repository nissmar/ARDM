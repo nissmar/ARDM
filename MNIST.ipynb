{
 "cells": [
  {
   "cell_type": "code",
   "execution_count": 1,
   "id": "f8ab99e6",
   "metadata": {},
   "outputs": [],
   "source": [
    "import torch\n",
    "import torch.nn as nn\n",
    "from torch.nn.functional import one_hot\n",
    "from torch.distributions import Categorical, OneHotCategorical\n",
    "from matplotlib import pyplot as plt\n",
    "from unet import UNet\n",
    "from tqdm import tqdm\n",
    "import numpy as np\n",
    "from difflib import SequenceMatcher\n",
    "from unet import UNet\n",
    "\n",
    "from torch.utils.data import TensorDataset, DataLoader\n",
    "from PIL import Image\n",
    "import os\n",
    "device='cuda' if torch.cuda.is_available() else 'cpu'\n",
    "os.environ['CUDA_LAUNCH_BLOCKING'] = \"1\""
   ]
  },
  {
   "cell_type": "code",
   "execution_count": 2,
   "id": "f0de39f3",
   "metadata": {},
   "outputs": [],
   "source": [
    "mnist_data = torch.tensor(np.load('data/binary_mnist.npy'))\n",
    "length = mnist_data.shape[0]\n",
    "mnist_data = mnist_data.view(length*784)\n",
    "\n",
    "# torch data\n",
    "out = torch.zeros(length*784,2, dtype=torch.float32)\n",
    "out[mnist_data==0, 0]=1\n",
    "out[mnist_data==1, 1]=1\n",
    "mnist_data = out.view(length, 28, 28, 2).permute((0,3,1,2))\n",
    "\n",
    "\n",
    "dataset = TensorDataset(mnist_data) \n",
    "dataloader = DataLoader(dataset, batch_size=100, shuffle=True) # create your dataloader"
   ]
  },
  {
   "cell_type": "code",
   "execution_count": 3,
   "id": "b1d6219e",
   "metadata": {},
   "outputs": [],
   "source": [
    "def closest(out):\n",
    "    return mnist_data[(((mnist_data-out.to('cpu'))**2).sum((1,2,3))).argmin()]\n",
    "\n",
    "def cust_show(out,**kwargs):\n",
    "    plt.imshow(out.cpu().detach().numpy(), **kwargs)\n",
    "    plt.show()\n",
    "\n",
    "\n",
    "def contains(source, elements):\n",
    "    out = torch.zeros_like(source, dtype=torch.bool)\n",
    "    for e in elements:\n",
    "        out = torch.logical_or(out, source==e)\n",
    "    return out"
   ]
  },
  {
   "cell_type": "code",
   "execution_count": 4,
   "id": "4549f9a2",
   "metadata": {},
   "outputs": [],
   "source": [
    "\n",
    "class AODM(nn.Module):\n",
    "    def __init__(self, h=28, w=28, k=2, lr=1e-4):\n",
    "        super().__init__()\n",
    "        self.h, self.w, self.k = h, w, k\n",
    "        self.d = self.h * self.w\n",
    "        self.unet = UNet(2,2)\n",
    "        self.lr = lr\n",
    "        self.loss_hist = torch.zeros(self.d).to(device)\n",
    "        self.loss_hist_n = torch.zeros(self.d).to(device)\n",
    "\n",
    "    def forward(self, x):\n",
    "        x_ = self.unet(x)\n",
    "        return torch.log_softmax(x_, dim=1)\n",
    "\n",
    "    def sample_t(self, N):\n",
    "        return torch.randint(1, self.d + 1, (N, 1, 1), device=device)\n",
    "\n",
    "    def sample_sigma(self, N):\n",
    "        return torch.stack([torch.randperm(self.d, device=device).reshape(self.h, self.w) + 1 for _ in range(N)])\n",
    "\n",
    "    def sigma_with_mask(self, mask):\n",
    "        # sigma = [1.. mask_pixels || randperm (remaining pixels) ]\n",
    "        sigma = torch.zeros((1, self.h, self.w), dtype=torch.long, device=device)\n",
    "        sigma[mask] = torch.arange(mask.sum()) + 1\n",
    "        sigma[~mask] = torch.randperm(self.d - mask.sum(), device=device) + mask.sum()\n",
    "        return sigma\n",
    "\n",
    "    def training_step(self, x):\n",
    "        N, K, H, W = x.shape\n",
    "        t = self.sample_t(N)\n",
    "        \n",
    "        sigma = self.sample_sigma(N)\n",
    "        mask = sigma < t\n",
    "        mask = mask.unsqueeze(1).float()\n",
    "        x_ = self(x * mask)\n",
    "        C = Categorical(logits=x_.permute(0, 2, 3, 1))\n",
    "        l = (1. - mask) * C.log_prob(torch.argmax(x, dim=1)).unsqueeze(1)\n",
    "        n = 1. / (self.d - t + 1.)\n",
    "\n",
    "\n",
    "        l = n.flatten() * l.sum(dim=(1, 2, 3))\n",
    "        \n",
    "        ### loss:\n",
    "        with torch.no_grad():\n",
    "            self.loss_hist[t.flatten().long()-1] += - l\n",
    "            self.loss_hist_n[t.flatten().long()-1] += 1\n",
    "        return {'loss': -l.mean(), 'input': x.detach(), 'generated': x_.detach()}\n",
    "\n",
    "    def training_step_end(self, o):\n",
    "        self.log('loss', o['loss'])\n",
    "\n",
    "    def validation_step(self, *args, **kwargs):\n",
    "        sample = self.sample_one()\n",
    "        self.sample_quality(sample)\n",
    "        return {'sample': sample.cpu()}\n",
    "\n",
    "    def validation_epoch_end(self, outputs):\n",
    "        self.log('sample_quality', self.sample_quality.compute())\n",
    "\n",
    "    def configure_optimizers(self):\n",
    "        opt = torch.optim.Adam(self.parameters(), lr=self.lr)\n",
    "        return [opt]\n",
    "\n",
    "    def sample_one(self, n=1):\n",
    "        x = torch.zeros(n, self.k, self.h, self.w, device=device)\n",
    "        sigma = self.sample_sigma(1)\n",
    "        for t in range(1, self.d + 1):\n",
    "            x = self.sample_step(x, t, sigma)\n",
    "        return x\n",
    "\n",
    "    def sample_one_seeded(self, x_seed, mask):\n",
    "\n",
    "        # add masked pixels to seed\n",
    "        x = torch.zeros(1, self.k, self.h, self.w, device=device)\n",
    "        x[mask] = x_seed[mask]\n",
    "        sigma = self.sigma_with_mask(mask)\n",
    "\n",
    "        for t in range(mask.sum(), self.d + 1):\n",
    "            x = self.sample_step(x, t, sigma)\n",
    "        return x\n",
    "\n",
    "    def sample_step(self, x, t, sigma):\n",
    "        \"\"\"\n",
    "        Performs one step of the noise reversal transition function in order sigma at time t\n",
    "        x: the current state\n",
    "        t: the current timestep\n",
    "        sigma: the order\n",
    "        \"\"\"\n",
    "        past, current = sigma < t, sigma == t\n",
    "        past, current = past.unsqueeze(1).float(), current.unsqueeze(1).float()\n",
    "        logprobs = self((x * past))\n",
    "        x_ = OneHotCategorical(logits=logprobs.permute(0, 2, 3, 1)).sample().permute(0, 3, 1, 2)\n",
    "        x = x * (1 - current) + x_ * current\n",
    "        return x\n",
    "    \n",
    "    def sample_step_cust(self, x, t, sigma):\n",
    "        past = sigma < t[0]\n",
    "        current = contains(sigma, t)\n",
    "        past, current = past.unsqueeze(1).float(), current.unsqueeze(1).float()\n",
    "        logprobs = self((x * past))\n",
    "        x_ = OneHotCategorical(logits=logprobs.permute(0, 2, 3, 1)).sample().permute(0, 3, 1, 2)\n",
    "        x = x * (1 - current) + x_ * current\n",
    "        return x\n",
    "    \n",
    "    def sample_one_cust(self, k=3):\n",
    "        x = torch.zeros(1, self.k, self.h, self.w, device=device)\n",
    "        sigma = self.sample_sigma(1)\n",
    "        for t in range(1, self.d + 1, k):\n",
    "            x = self.sample_step_cust(x, torch.arange(t, t+k), sigma)\n",
    "        return x\n",
    "    \n",
    "    def sample_one_path(self, path, n=1):\n",
    "        x = torch.zeros(n, self.k, self.h, self.w, device=device)\n",
    "        t = 1\n",
    "        sigma = self.sample_sigma(1)\n",
    "        for i in tqdm(range(1, len(path))):\n",
    "            if path[i-1]< path[i]:\n",
    "                x = self.sample_step_cust(x, torch.arange(path[i-1], path[i]), sigma)\n",
    "        return x\n",
    "\n"
   ]
  },
  {
   "cell_type": "code",
   "execution_count": 17,
   "id": "22e63f04",
   "metadata": {},
   "outputs": [],
   "source": [
    "model = AODM().to(device)\n",
    "#model.eval()\n",
    "#out = model.sample_one()\n",
    "model = torch.load('bin_mnist2.pt')\n",
    "\n",
    "opt = model.configure_optimizers()[0]\n",
    "L=[]"
   ]
  },
  {
   "cell_type": "code",
   "execution_count": 18,
   "id": "eb21c887",
   "metadata": {},
   "outputs": [],
   "source": [
    "model.lr = 1e-4\n",
    "opt = model.configure_optimizers()[0]"
   ]
  },
  {
   "cell_type": "code",
   "execution_count": 19,
   "id": "600bb55f",
   "metadata": {
    "scrolled": true
   },
   "outputs": [],
   "source": [
    "if False:\n",
    "    for i in tqdm(range(40)):\n",
    "       # model.eval()\n",
    "        #out = model.sample_one()\n",
    "        #plt.imsave('figs/epoch_{}.png'.format(i), out[0,1].cpu().detach().numpy())\n",
    "        if i%2==0:\n",
    "            print('saving model')\n",
    "            torch.save(model, 'bin_mnist3.pt')\n",
    "            print('model saved')\n",
    "\n",
    "        model.train()\n",
    "        l=0\n",
    "        for idx, batch in enumerate(dataloader):\n",
    "            x = batch[0].to(device)\n",
    "            opt.zero_grad()\n",
    "            out = model.training_step(x)\n",
    "            loss = out['loss']\n",
    "            l+=loss.item()\n",
    "            loss.backward()\n",
    "            opt.step()\n",
    "        L.append(l)\n",
    "        plt.plot(L)\n",
    "        plt.show()\n"
   ]
  },
  {
   "cell_type": "code",
   "execution_count": 20,
   "id": "4f46b014",
   "metadata": {
    "scrolled": true
   },
   "outputs": [
    {
     "data": {
      "image/png": "[encoded data removed]",
      "text/plain": [
       "<Figure size 432x288 with 1 Axes>"
      ]
     },
     "metadata": {
      "needs_background": "light"
     },
     "output_type": "display_data"
    }
   ],
   "source": [
    "loss_array = np.load('bin_loss.npy')\n",
    "\n",
    "\n",
    "def divide_array(arr, n):\n",
    "    steps = (arr[0]-arr[-1])/(n-1)\n",
    "    L = [0]\n",
    "    \n",
    "    for i in range(1, n-1):\n",
    "        mask = (arr < arr[0]-i*steps)\n",
    "        ind = mask.argmax()\n",
    "        if ind <= L[-1]:\n",
    "            ind = L[-1]+1\n",
    "            if ind >= len(arr):\n",
    "                ind = len(arr)-1\n",
    "        L.append(ind)\n",
    "    L.append(len(arr)-1)\n",
    "    return L\n",
    "\n",
    "x = divide_array(loss_array, 10)\n",
    "y = loss_array[x]\n",
    "plt.plot(loss_array, 'o', label='Expected loss at time t')\n",
    "plt.plot(x,y, 'o', label='Uniform sampling')\n",
    "plt.xlabel('step t')\n",
    "plt.ylabel('L(t)')\n",
    "plt.legend()\n",
    "#plt.savefig('figs/uniform_samplingb.png')\n",
    "plt.show()\n"
   ]
  },
  {
   "cell_type": "markdown",
   "id": "de8b435a",
   "metadata": {},
   "source": [
    "# Evaluate model"
   ]
  },
  {
   "cell_type": "code",
   "execution_count": 35,
   "id": "eca3f42d",
   "metadata": {
    "scrolled": true
   },
   "outputs": [
    {
     "name": "stderr",
     "output_type": "stream",
     "text": [
      "100%|████████████████████████████████████████| 399/399 [00:03<00:00, 105.64it/s]\n"
     ]
    }
   ],
   "source": [
    "model.eval()\n",
    "nstep=400\n",
    "x = divide_array(loss_array, nstep)\n",
    "out = model.sample_one_path(x, 10)"
   ]
  },
  {
   "cell_type": "code",
   "execution_count": 41,
   "id": "bd4824ef",
   "metadata": {
    "scrolled": false
   },
   "outputs": [
    {
     "name": "stdout",
     "output_type": "stream",
     "text": [
      "      Generated Image    Closest Neighbour\n"
     ]
    },
    {
     "data": {
      "image/png": "[encoded data removed]",
      "text/plain": [
       "<Figure size 432x288 with 1 Axes>"
      ]
     },
     "metadata": {
      "needs_background": "light"
     },
     "output_type": "display_data"
    },
    {
     "data": {
      "image/png": "[encoded data removed]",
      "text/plain": [
       "<Figure size 432x288 with 1 Axes>"
      ]
     },
     "metadata": {
      "needs_background": "light"
     },
     "output_type": "display_data"
    },
    {
     "data": {
      "image/png": "[encoded data removed]",
      "text/plain": [
       "<Figure size 432x288 with 1 Axes>"
      ]
     },
     "metadata": {
      "needs_background": "light"
     },
     "output_type": "display_data"
    },
    {
     "data": {
      "image/png": "[encoded data removed]",
      "text/plain": [
       "<Figure size 432x288 with 1 Axes>"
      ]
     },
     "metadata": {
      "needs_background": "light"
     },
     "output_type": "display_data"
    },
    {
     "data": {
      "image/png": "[encoded data removed]",
      "text/plain": [
       "<Figure size 432x288 with 1 Axes>"
      ]
     },
     "metadata": {
      "needs_background": "light"
     },
     "output_type": "display_data"
    },
    {
     "data": {
      "image/png": "[encoded data removed]",
      "text/plain": [
       "<Figure size 432x288 with 1 Axes>"
      ]
     },
     "metadata": {
      "needs_background": "light"
     },
     "output_type": "display_data"
    },
    {
     "data": {
      "image/png": "[encoded data removed]",
      "text/plain": [
       "<Figure size 432x288 with 1 Axes>"
      ]
     },
     "metadata": {
      "needs_background": "light"
     },
     "output_type": "display_data"
    },
    {
     "data": {
      "image/png": "[encoded data removed]",
      "text/plain": [
       "<Figure size 432x288 with 1 Axes>"
      ]
     },
     "metadata": {
      "needs_background": "light"
     },
     "output_type": "display_data"
    },
    {
     "data": {
      "image/png": "[encoded data removed]",
      "text/plain": [
       "<Figure size 432x288 with 1 Axes>"
      ]
     },
     "metadata": {
      "needs_background": "light"
     },
     "output_type": "display_data"
    },
    {
     "data": {
      "image/png": "[encoded data removed]",
      "text/plain": [
       "<Figure size 432x288 with 1 Axes>"
      ]
     },
     "metadata": {
      "needs_background": "light"
     },
     "output_type": "display_data"
    }
   ],
   "source": [
    "print('      Generated Image    Closest Neighbour')\n",
    "for i in range(out.shape[0]):\n",
    "    gen_im = out[i,1].cpu().detach().numpy()\n",
    "    ref_im = closest(out[i])[1].cpu().detach().numpy()    \n",
    "    gen_im = Image.fromarray(gen_im>0.5)\n",
    "    gen_im = gen_im.resize((280,280), Image.NEAREST)\n",
    "   \n",
    "    ref_im = Image.fromarray(ref_im>0.5)\n",
    "    ref_im = ref_im.resize((280,280), Image.NEAREST)\n",
    "    \n",
    "    CURRENT_im = np.concatenate([gen_im, ref_im], axis=1)\n",
    "    \n",
    "    plt.imshow(CURRENT_im, cmap='gray')\n",
    "    plt.show()"
   ]
  },
  {
   "cell_type": "markdown",
   "id": "9c877f3f",
   "metadata": {},
   "source": [
    "# Save dataset"
   ]
  },
  {
   "cell_type": "code",
   "execution_count": 28,
   "id": "4507711e",
   "metadata": {},
   "outputs": [],
   "source": [
    "model.eval()\n",
    "out = model.sample_one(200)"
   ]
  },
  {
   "cell_type": "code",
   "execution_count": 30,
   "id": "6299f947",
   "metadata": {},
   "outputs": [],
   "source": [
    "for i in range(out.shape[0]):\n",
    "    gen_im = out[i,1].cpu().detach().numpy()\n",
    "    plt.imsave('figs/mnist_gen/{}.png'.format(i), gen_im, cmap='gray')"
   ]
  }
 ],
 "metadata": {
  "kernelspec": {
   "display_name": "Python 3 (ipykernel)",
   "language": "python",
   "name": "python3"
  },
  "language_info": {
   "codemirror_mode": {
    "name": "ipython",
    "version": 3
   },
   "file_extension": ".py",
   "mimetype": "text/x-python",
   "name": "python",
   "nbconvert_exporter": "python",
   "pygments_lexer": "ipython3",
   "version": "3.8.12"
  }
 },
 "nbformat": 4,
 "nbformat_minor": 5
}
